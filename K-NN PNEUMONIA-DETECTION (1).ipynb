{
 "cells": [
  {
   "cell_type": "code",
   "execution_count": 18,
   "id": "051863db",
   "metadata": {},
   "outputs": [],
   "source": [
    "import numpy as np \n",
    "import pandas as pd\n",
    "import cv2\n",
    "from sklearn.neighbors import KNeighborsClassifier\n",
    "from sklearn.model_selection import cross_val_score\n",
    "from sklearn.model_selection import train_test_split\n",
    "import matplotlib.pyplot as plt\n",
    "from sklearn.metrics import classification_report\n",
    "from sklearn.metrics import confusion_matrix\n",
    "from sklearn.metrics import plot_confusion_matrix\n",
    "from sklearn import metrics\n",
    "from sklearn import preprocessing\n",
    "import os"
   ]
  },
  {
   "cell_type": "code",
   "execution_count": 19,
   "id": "34220f19",
   "metadata": {},
   "outputs": [],
   "source": [
    "image_size= 32\n",
    "\n",
    "dir_base='C:\\\\Users\\\\ragav\\\\Downloads\\\\chest_xray'\n",
    "test_dir = '{}/{}'.format(dir_base, 'test')\n",
    "train_dir = '{}/{}'.format(dir_base, 'train')\n",
    "val_dir = '{}/{}'.format(dir_base, 'val')\n",
    "\n",
    "test_dir_normal_cases = '{}/{}/{}'.format(dir_base, 'test','NORMAL')\n",
    "train_dir_normal_cases = '{}/{}/{}'.format(dir_base, 'train','NORMAL')\n",
    "val_dir_normal_cases = '{}/{}/{}'.format(dir_base, 'val','NORMAL')\n",
    "\n",
    "test_dir_pneumonia_cases = '{}/{}/{}'.format(dir_base, 'test','PNEUMONIA')\n",
    "train_dir_pneumonia_cases = '{}/{}/{}'.format(dir_base, 'train','PNEUMONIA')\n",
    "val_dir_pneumonia_cases = '{}/{}/{}'.format(dir_base, 'val','PNEUMONIA')"
   ]
  },
  {
   "cell_type": "code",
   "execution_count": 20,
   "id": "a30aefc7",
   "metadata": {},
   "outputs": [],
   "source": [
    "def get_data(path,label,data_type,process_flipped):\n",
    "    result = []\n",
    "    items = os.listdir(path)\n",
    "    for i in items:\n",
    "        img_path = '{}/{}/{}/{}'.format(dir_base,data_type,label,i)\n",
    "        result.append((get_image_arr(img_path),label))\n",
    "        if process_flipped == True:\n",
    "            result.append((get_flipped_image_arr(img_path),label))\n",
    "    return pd.DataFrame(result, columns=['image', 'label'],index=None)"
   ]
  },
  {
   "cell_type": "code",
   "execution_count": 21,
   "id": "036ec5d8",
   "metadata": {},
   "outputs": [],
   "source": [
    "def get_flipped_image_arr(path):\n",
    "        original = cv2.imread(path) \n",
    "        img = cv2.flip(original, 1)\n",
    "        img = cv2.resize(img, (image_size, image_size),interpolation = cv2.INTER_AREA).reshape(1,-1)\n",
    "        return img"
   ]
  },
  {
   "cell_type": "code",
   "execution_count": 22,
   "id": "a35535b0",
   "metadata": {},
   "outputs": [],
   "source": [
    "def get_image_arr(path):\n",
    "        img = cv2.imread(path) \n",
    "        img = cv2.resize(img, (image_size, image_size),interpolation = cv2.INTER_AREA).reshape(1,-1)\n",
    "        return img"
   ]
  },
  {
   "cell_type": "code",
   "execution_count": 23,
   "id": "252bee0e",
   "metadata": {},
   "outputs": [],
   "source": [
    "def show_plot(k_values,accuracy_values):\n",
    "    fig = plt.figure()\n",
    "    fig.subplots_adjust(top=0.8)\n",
    "    ax1 = fig.add_subplot()\n",
    "    ax1.set_ylabel('Accuracy')\n",
    "    ax1.set_xlabel('K value')\n",
    "    plt.plot(k_values,accuracy_values,label='Accuracy for k params')\n",
    "    plt.scatter(k_values,accuracy_values,c=k_values,alpha=1)\n",
    "    plt.legend()\n",
    "    plt.show()"
   ]
  },
  {
   "cell_type": "code",
   "execution_count": 24,
   "id": "0f6b7ff3",
   "metadata": {},
   "outputs": [],
   "source": [
    "def show_confusion_matrix(model,x,y):\n",
    "    disp = plot_confusion_matrix(model, x, y,\n",
    "                             cmap=plt.cm.Blues,\n",
    "                             normalize=None)\n",
    "    plt.show()"
   ]
  },
  {
   "cell_type": "code",
   "execution_count": 27,
   "id": "4e8577a9",
   "metadata": {},
   "outputs": [],
   "source": [
    "data_normal = get_data(train_dir_normal_cases,'NORMAL','train',True)\n",
    "data_pneumonia = get_data(train_dir_pneumonia_cases,'PNEUMONIA','train',False)"
   ]
  },
  {
   "cell_type": "code",
   "execution_count": 28,
   "id": "31954a2b",
   "metadata": {},
   "outputs": [],
   "source": [
    "data = pd.concat([data_normal,data_pneumonia])\n",
    "images = data.image\n",
    "y = data.label\n",
    "\n",
    "X = []\n",
    "for i in images.values:\n",
    "    X.append(i[0])\n",
    "X = np.array(X)"
   ]
  },
  {
   "cell_type": "code",
   "execution_count": 29,
   "id": "2191ab17",
   "metadata": {},
   "outputs": [
    {
     "name": "stdout",
     "output_type": "stream",
     "text": [
      "X shape: (6569, 3072)\n",
      "Y shape: (6569,)\n"
     ]
    }
   ],
   "source": [
    "print('X shape:',X.shape)\n",
    "print('Y shape:',y.shape)"
   ]
  },
  {
   "cell_type": "code",
   "execution_count": 30,
   "id": "f04bacaa",
   "metadata": {},
   "outputs": [],
   "source": [
    "X_train, X_test, y_train, y_test = train_test_split(X, y, test_size=0.70, random_state=30)"
   ]
  },
  {
   "cell_type": "code",
   "execution_count": 31,
   "id": "044a8c0c",
   "metadata": {},
   "outputs": [
    {
     "name": "stdout",
     "output_type": "stream",
     "text": [
      "X train shape: (1970, 3072)\n",
      "Y train shape: (1970,)\n",
      "X train shape: (4599, 3072)\n",
      "Y train shape: (4599,)\n"
     ]
    }
   ],
   "source": [
    "print('X train shape:',X_train.shape)\n",
    "print('Y train shape:',y_train.shape)\n",
    "\n",
    "print('X train shape:',X_test.shape)\n",
    "print('Y train shape:',y_test.shape)"
   ]
  },
  {
   "cell_type": "code",
   "execution_count": 32,
   "id": "4bb6824c",
   "metadata": {},
   "outputs": [
    {
     "name": "stdout",
     "output_type": "stream",
     "text": [
      "Classes:  ['NORMAL' 'PNEUMONIA']\n"
     ]
    }
   ],
   "source": [
    "print('Classes: ',np.unique(y_train))"
   ]
  },
  {
   "cell_type": "code",
   "execution_count": 33,
   "id": "200438dd",
   "metadata": {},
   "outputs": [
    {
     "name": "stdout",
     "output_type": "stream",
     "text": [
      "Accuracy for k=1: 0.9219395520765383\n",
      "\n",
      "\n",
      "              precision    recall  f1-score   support\n",
      "\n",
      "      NORMAL       0.93      0.88      0.90      1864\n",
      "   PNEUMONIA       0.92      0.95      0.94      2735\n",
      "\n",
      "    accuracy                           0.92      4599\n",
      "   macro avg       0.92      0.91      0.92      4599\n",
      "weighted avg       0.92      0.92      0.92      4599\n",
      "\n",
      "=========================================================\n",
      "\n",
      "\n",
      "Accuracy for k=3: 0.9375951293759512\n",
      "\n",
      "\n",
      "              precision    recall  f1-score   support\n",
      "\n",
      "      NORMAL       0.95      0.89      0.92      1864\n",
      "   PNEUMONIA       0.93      0.97      0.95      2735\n",
      "\n",
      "    accuracy                           0.94      4599\n",
      "   macro avg       0.94      0.93      0.93      4599\n",
      "weighted avg       0.94      0.94      0.94      4599\n",
      "\n",
      "=========================================================\n",
      "\n",
      "\n",
      "Accuracy for k=5: 0.9408567079799957\n",
      "\n",
      "\n",
      "              precision    recall  f1-score   support\n",
      "\n",
      "      NORMAL       0.96      0.89      0.92      1864\n",
      "   PNEUMONIA       0.93      0.97      0.95      2735\n",
      "\n",
      "    accuracy                           0.94      4599\n",
      "   macro avg       0.94      0.93      0.94      4599\n",
      "weighted avg       0.94      0.94      0.94      4599\n",
      "\n",
      "=========================================================\n",
      "\n",
      "\n",
      "Accuracy for k=10: 0.948901935203305\n",
      "\n",
      "\n",
      "              precision    recall  f1-score   support\n",
      "\n",
      "      NORMAL       0.96      0.92      0.94      1864\n",
      "   PNEUMONIA       0.94      0.97      0.96      2735\n",
      "\n",
      "    accuracy                           0.95      4599\n",
      "   macro avg       0.95      0.94      0.95      4599\n",
      "weighted avg       0.95      0.95      0.95      4599\n",
      "\n",
      "=========================================================\n",
      "\n",
      "\n",
      "Accuracy for k=20: 0.9473798651880844\n",
      "\n",
      "\n",
      "              precision    recall  f1-score   support\n",
      "\n",
      "      NORMAL       0.96      0.91      0.93      1864\n",
      "   PNEUMONIA       0.94      0.98      0.96      2735\n",
      "\n",
      "    accuracy                           0.95      4599\n",
      "   macro avg       0.95      0.94      0.94      4599\n",
      "weighted avg       0.95      0.95      0.95      4599\n",
      "\n",
      "=========================================================\n",
      "\n",
      "\n",
      "Accuracy for k=50: 0.9373776908023483\n",
      "\n",
      "\n",
      "              precision    recall  f1-score   support\n",
      "\n",
      "      NORMAL       0.96      0.88      0.92      1864\n",
      "   PNEUMONIA       0.92      0.98      0.95      2735\n",
      "\n",
      "    accuracy                           0.94      4599\n",
      "   macro avg       0.94      0.93      0.93      4599\n",
      "weighted avg       0.94      0.94      0.94      4599\n",
      "\n",
      "=========================================================\n",
      "\n",
      "\n",
      "Accuracy for k=100: 0.9325940421830833\n",
      "\n",
      "\n",
      "              precision    recall  f1-score   support\n",
      "\n",
      "      NORMAL       0.96      0.87      0.91      1864\n",
      "   PNEUMONIA       0.91      0.98      0.95      2735\n",
      "\n",
      "    accuracy                           0.93      4599\n",
      "   macro avg       0.94      0.92      0.93      4599\n",
      "weighted avg       0.93      0.93      0.93      4599\n",
      "\n",
      "=========================================================\n",
      "\n",
      "\n"
     ]
    },
    {
     "data": {
      "image/png": "[encoded data removed]",
      "text/plain": [
       "<Figure size 432x288 with 1 Axes>"
      ]
     },
     "metadata": {
      "needs_background": "light"
     },
     "output_type": "display_data"
    }
   ],
   "source": [
    "k_values = [1, 3, 5, 10, 20, 50, 100]\n",
    "accuracy_values = []\n",
    "for k in k_values:\n",
    "    model = KNeighborsClassifier(n_neighbors=k)\n",
    "    model.fit(X_train,y_train)\n",
    "    predictions = model.predict(X_test)\n",
    "    acc = metrics.accuracy_score(y_test, predictions)\n",
    "    accuracy_values.append(acc)\n",
    "    print('Accuracy for k={}:'.format(str(k)),acc)\n",
    "    print('\\n')\n",
    "    print(classification_report(y_test, predictions))\n",
    "    print('=========================================================')\n",
    "    print('\\n')\n",
    "show_plot(k_values,accuracy_values)\n",
    "\n"
   ]
  },
  {
   "cell_type": "code",
   "execution_count": 34,
   "id": "c72c721b",
   "metadata": {},
   "outputs": [
    {
     "data": {
      "text/plain": [
       "KNeighborsClassifier(n_neighbors=10)"
      ]
     },
     "execution_count": 34,
     "metadata": {},
     "output_type": "execute_result"
    }
   ],
   "source": [
    "knn_model = KNeighborsClassifier(n_neighbors=10)\n",
    "knn_model.fit(X,y)"
   ]
  },
  {
   "cell_type": "code",
   "execution_count": 35,
   "id": "b3d515fd",
   "metadata": {},
   "outputs": [],
   "source": [
    "#Load test data\n",
    "test_data_normal = get_data(test_dir_normal_cases,'NORMAL','test',False)\n",
    "test_data_pneumonia = get_data(test_dir_pneumonia_cases,'PNEUMONIA','test',False)\n",
    "\n",
    "test_data_total = pd.concat([test_data_normal,test_data_pneumonia])\n",
    "\n",
    "y_test_data = test_data_total.label\n",
    "\n",
    "X_test_data = []\n",
    "for i in test_data_total.image.values:\n",
    "    X_test_data.append(i[0])\n",
    "    \n",
    "X_test_data = np.array(X_test_data)"
   ]
  },
  {
   "cell_type": "code",
   "execution_count": 36,
   "id": "e58eb439",
   "metadata": {},
   "outputs": [
    {
     "name": "stdout",
     "output_type": "stream",
     "text": [
      "Accuracy for test 0.7980769230769231\n",
      "              precision    recall  f1-score   support\n",
      "\n",
      "      NORMAL       0.94      0.49      0.65       234\n",
      "   PNEUMONIA       0.76      0.98      0.86       390\n",
      "\n",
      "    accuracy                           0.80       624\n",
      "   macro avg       0.85      0.74      0.75       624\n",
      "weighted avg       0.83      0.80      0.78       624\n",
      "\n"
     ]
    },
    {
     "data": {
      "image/png": "[encoded data removed]",
      "text/plain": [
       "<Figure size 432x288 with 2 Axes>"
      ]
     },
     "metadata": {
      "needs_background": "light"
     },
     "output_type": "display_data"
    }
   ],
   "source": [
    "predictions_test = knn_model.predict(X_test_data)\n",
    "acc_test = metrics.accuracy_score(y_test_data, predictions_test)\n",
    "print('Accuracy for test',acc_test)\n",
    "print(classification_report(y_test_data, predictions_test))\n",
    "show_confusion_matrix(knn_model,X_test_data,y_test_data)"
   ]
  },
  {
   "cell_type": "code",
   "execution_count": 37,
   "id": "3575937d",
   "metadata": {},
   "outputs": [
    {
     "name": "stdout",
     "output_type": "stream",
     "text": [
      "['NORMAL']\n"
     ]
    }
   ],
   "source": [
    "pred=knn_model.predict(X_test_data[:1])\n",
    "print(pred)"
   ]
  },
  {
   "cell_type": "code",
   "execution_count": 47,
   "id": "7746045c",
   "metadata": {},
   "outputs": [
    {
     "data": {
      "image/jpeg": "[encoded data removed]",
      "text/plain": [
       "<IPython.core.display.Image object>"
      ]
     },
     "execution_count": 47,
     "metadata": {},
     "output_type": "execute_result"
    }
   ],
   "source": [
    "from IPython import display \n",
    "display.Image('person1_virus_9.jpeg')"
   ]
  },
  {
   "cell_type": "code",
   "execution_count": 48,
   "id": "a24f95f1",
   "metadata": {},
   "outputs": [
    {
     "name": "stdout",
     "output_type": "stream",
     "text": [
      "['PNEUMONIA']\n"
     ]
    }
   ],
   "source": [
    "img = cv2.imread('person1_virus_9.jpeg')\n",
    "img = img = cv2.resize(img, (image_size, image_size),interpolation = cv2.INTER_AREA).reshape(1,-1)\n",
    "predd=knn_model.predict(img)\n",
    "print(predd)"
   ]
  },
  {
   "cell_type": "code",
   "execution_count": 50,
   "id": "ae11517f",
   "metadata": {},
   "outputs": [
    {
     "name": "stdout",
     "output_type": "stream",
     "text": [
      "['NORMAL']\n"
     ]
    }
   ],
   "source": [
    "img = cv2.imread('IM-0001-0001.jpeg')\n",
    "img = cv2.resize(img, (image_size, image_size),interpolation = cv2.INTER_AREA).reshape(1,-1)\n",
    "predd=knn_model.predict(img)\n",
    "print(predd)"
   ]
  },
  {
   "cell_type": "code",
   "execution_count": null,
   "id": "23fad31b",
   "metadata": {},
   "outputs": [],
   "source": [
    "#---------------------------------------------------------------------------------------------------------------------------"
   ]
  }
 ],
 "metadata": {
  "kernelspec": {
   "display_name": "Python 3",
   "language": "python",
   "name": "python3"
  }
 },
 "nbformat": 4,
 "nbformat_minor": 5
}
